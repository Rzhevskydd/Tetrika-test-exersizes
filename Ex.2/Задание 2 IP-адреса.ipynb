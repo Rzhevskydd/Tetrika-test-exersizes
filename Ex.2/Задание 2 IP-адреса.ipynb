{
 "cells": [
  {
   "cell_type": "code",
   "execution_count": 24,
   "metadata": {},
   "outputs": [
    {
     "name": "stdout",
     "output_type": "stream",
     "text": [
      "IP 101.255.10.103 occurs 146 times\n",
      "IP 82.146.232.163 occurs 143 times\n",
      "IP 240.124.194.168 occurs 142 times\n",
      "IP 154.157.157.156 occurs 141 times\n",
      "IP 126.159.54.179 occurs 139 times\n"
     ]
    }
   ],
   "source": [
    "import re\n",
    "\n",
    "from collections import Counter \n",
    "\n",
    "def format(pair):\n",
    "    return \"IP \" + pair[0] + \" occurs \" + str(pair[1]) + \" times\"\n",
    "\n",
    "with open(\"hits.txt\") as file:   \n",
    "    content = file.read()\n",
    "    ips = re.findall(r'\\t(.*?)\\t', content)\n",
    "    \n",
    "occurenceIp = Counter(ips)\n",
    "print('\\n'.join(map(format, occurenceIp.most_common(5)))) "
   ]
  }
 ],
 "metadata": {
  "kernelspec": {
   "display_name": "Python 3",
   "language": "python",
   "name": "python3"
  },
  "language_info": {
   "codemirror_mode": {
    "name": "ipython",
    "version": 3
   },
   "file_extension": ".py",
   "mimetype": "text/x-python",
   "name": "python",
   "nbconvert_exporter": "python",
   "pygments_lexer": "ipython3",
   "version": "3.8.2"
  }
 },
 "nbformat": 4,
 "nbformat_minor": 4
}
